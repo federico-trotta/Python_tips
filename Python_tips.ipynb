{
 "cells": [
  {
   "cell_type": "markdown",
   "id": "a0f88a05",
   "metadata": {
    "toc": true
   },
   "source": [
    "<h1>Table of Contents<span class=\"tocSkip\"></span></h1>\n",
    "<div class=\"toc\"><ul class=\"toc-item\"><li><span><a href=\"#GENERAL-CODE\" data-toc-modified-id=\"GENERAL-CODE-1\"><span class=\"toc-item-num\">1&nbsp;&nbsp;</span>GENERAL CODE</a></span><ul class=\"toc-item\"><li><span><a href=\"#Loops-and-statements\" data-toc-modified-id=\"Loops-and-statements-1.1\"><span class=\"toc-item-num\">1.1&nbsp;&nbsp;</span>Loops and statements</a></span></li><li><span><a href=\"#Creating-subfolder-if-do-not-exist\" data-toc-modified-id=\"Creating-subfolder-if-do-not-exist-1.2\"><span class=\"toc-item-num\">1.2&nbsp;&nbsp;</span>Creating subfolder if do not exist</a></span></li><li><span><a href=\"#Creating-a-CVS-(recap)-file-if-do-not-exists\" data-toc-modified-id=\"Creating-a-CVS-(recap)-file-if-do-not-exists-1.3\"><span class=\"toc-item-num\">1.3&nbsp;&nbsp;</span>Creating a CVS (recap) file if do not exists</a></span></li><li><span><a href=\"#Creating-a-config-file\" data-toc-modified-id=\"Creating-a-config-file-1.4\"><span class=\"toc-item-num\">1.4&nbsp;&nbsp;</span>Creating a config file</a></span></li><li><span><a href=\"#Creating-a-CLI-parser-with-Argparse\" data-toc-modified-id=\"Creating-a-CLI-parser-with-Argparse-1.5\"><span class=\"toc-item-num\">1.5&nbsp;&nbsp;</span>Creating a CLI parser with Argparse</a></span></li></ul></li><li><span><a href=\"#PANDAS\" data-toc-modified-id=\"PANDAS-2\"><span class=\"toc-item-num\">2&nbsp;&nbsp;</span>PANDAS</a></span><ul class=\"toc-item\"><li><span><a href=\"#Accessing-an-Access-table-with-Python-(and-show-the-data-as-tabular-with-Pandas)\" data-toc-modified-id=\"Accessing-an-Access-table-with-Python-(and-show-the-data-as-tabular-with-Pandas)-2.1\"><span class=\"toc-item-num\">2.1&nbsp;&nbsp;</span>Accessing an Access table with Python (and show the data as tabular with Pandas)</a></span></li><li><span><a href=\"#Creating-a-dataframe\" data-toc-modified-id=\"Creating-a-dataframe-2.2\"><span class=\"toc-item-num\">2.2&nbsp;&nbsp;</span>Creating a dataframe</a></span></li><li><span><a href=\"#Creating--Pandas-column-with-values-in-a-given-range\" data-toc-modified-id=\"Creating--Pandas-column-with-values-in-a-given-range-2.3\"><span class=\"toc-item-num\">2.3&nbsp;&nbsp;</span>Creating  Pandas column with values in a given range</a></span></li><li><span><a href=\"#Generalizing-string-values\" data-toc-modified-id=\"Generalizing-string-values-2.4\"><span class=\"toc-item-num\">2.4&nbsp;&nbsp;</span>Generalizing string values</a></span></li><li><span><a href=\"#Merging-dtaframes\" data-toc-modified-id=\"Merging-dtaframes-2.5\"><span class=\"toc-item-num\">2.5&nbsp;&nbsp;</span>Merging dtaframes</a></span></li><li><span><a href=\"#Melting-columns\" data-toc-modified-id=\"Melting-columns-2.6\"><span class=\"toc-item-num\">2.6&nbsp;&nbsp;</span>Melting columns</a></span></li><li><span><a href=\"#Transposing-a-dataframe\" data-toc-modified-id=\"Transposing-a-dataframe-2.7\"><span class=\"toc-item-num\">2.7&nbsp;&nbsp;</span>Transposing a dataframe</a></span></li><li><span><a href=\"#Droping-NaNs-in-one-specific-column\" data-toc-modified-id=\"Droping-NaNs-in-one-specific-column-2.8\"><span class=\"toc-item-num\">2.8&nbsp;&nbsp;</span>Droping NaNs in one specific column</a></span></li><li><span><a href=\"#How-many-values-present-themself-in-a-specific-column-more-than-twice?\" data-toc-modified-id=\"How-many-values-present-themself-in-a-specific-column-more-than-twice?-2.9\"><span class=\"toc-item-num\">2.9&nbsp;&nbsp;</span>How many values present themself in a specific column more than twice?</a></span></li><li><span><a href=\"#Creating-a-column-'Month',-extracting-the-months-from-a-'date'-existing-column,-and-directly-appending-it-to-an-existing-dataframe\" data-toc-modified-id=\"Creating-a-column-'Month',-extracting-the-months-from-a-'date'-existing-column,-and-directly-appending-it-to-an-existing-dataframe-2.10\"><span class=\"toc-item-num\">2.10&nbsp;&nbsp;</span>Creating a column 'Month', extracting the months from a 'date' existing column, and directly appending it to an existing dataframe</a></span></li><li><span><a href=\"#Calculating-mean-values-and-sorting-for-values.-Counting-values-and-sorting-for-index\" data-toc-modified-id=\"Calculating-mean-values-and-sorting-for-values.-Counting-values-and-sorting-for-index-2.11\"><span class=\"toc-item-num\">2.11&nbsp;&nbsp;</span>Calculating mean values and sorting for values. Counting values and sorting for index</a></span></li><li><span><a href=\"#Filtering,-sorting-and-grouping\" data-toc-modified-id=\"Filtering,-sorting-and-grouping-2.12\"><span class=\"toc-item-num\">2.12&nbsp;&nbsp;</span>Filtering, sorting and grouping</a></span></li><li><span><a href=\"#Filtering-for-a-value\" data-toc-modified-id=\"Filtering-for-a-value-2.13\"><span class=\"toc-item-num\">2.13&nbsp;&nbsp;</span>Filtering for a value</a></span></li><li><span><a href=\"#Calculating-mean-and-standard-deviation-and-cleaning-data\" data-toc-modified-id=\"Calculating-mean-and-standard-deviation-and-cleaning-data-2.14\"><span class=\"toc-item-num\">2.14&nbsp;&nbsp;</span>Calculating mean and standard deviation and cleaning data</a></span></li><li><span><a href=\"#Select-rows-and-columns-for-specific-values-with-'loc()'-and-'iloc()'\" data-toc-modified-id=\"Select-rows-and-columns-for-specific-values-with-'loc()'-and-'iloc()'-2.15\"><span class=\"toc-item-num\">2.15&nbsp;&nbsp;</span>Select rows and columns for specific values with 'loc()' and 'iloc()'</a></span></li><li><span><a href=\"#Add-values-in-a-new-column-based-on-a-treshold-in-an-existing-column\" data-toc-modified-id=\"Add-values-in-a-new-column-based-on-a-treshold-in-an-existing-column-2.16\"><span class=\"toc-item-num\">2.16&nbsp;&nbsp;</span>Add values in a new column based on a treshold in an existing column</a></span></li><li><span><a href=\"#Dealing-with-auto-created-CSV-files\" data-toc-modified-id=\"Dealing-with-auto-created-CSV-files-2.17\"><span class=\"toc-item-num\">2.17&nbsp;&nbsp;</span>Dealing with auto-created CSV files</a></span></li></ul></li><li><span><a href=\"#SEABORN-AND-MATPLOTLIB\" data-toc-modified-id=\"SEABORN-AND-MATPLOTLIB-3\"><span class=\"toc-item-num\">3&nbsp;&nbsp;</span>SEABORN AND MATPLOTLIB</a></span><ul class=\"toc-item\"><li><span><a href=\"#Histogramn-with-vertical-lines-displayed\" data-toc-modified-id=\"Histogramn-with-vertical-lines-displayed-3.1\"><span class=\"toc-item-num\">3.1&nbsp;&nbsp;</span>Histogramn with vertical lines displayed</a></span></li><li><span><a href=\"#Regression-line\" data-toc-modified-id=\"Regression-line-3.2\"><span class=\"toc-item-num\">3.2&nbsp;&nbsp;</span>Regression line</a></span></li><li><span><a href=\"#Plotting-histograms-from-dictionaries\" data-toc-modified-id=\"Plotting-histograms-from-dictionaries-3.3\"><span class=\"toc-item-num\">3.3&nbsp;&nbsp;</span>Plotting histograms from dictionaries</a></span></li></ul></li><li><span><a href=\"#HOW-TO-ACCESS-GOOGLE-SHEETS-ON-GOOGLE-COLABORATORY\" data-toc-modified-id=\"HOW-TO-ACCESS-GOOGLE-SHEETS-ON-GOOGLE-COLABORATORY-4\"><span class=\"toc-item-num\">4&nbsp;&nbsp;</span>HOW TO ACCESS GOOGLE SHEETS ON GOOGLE COLABORATORY</a></span></li></ul></div>"
   ]
  },
  {
   "cell_type": "markdown",
   "id": "287d8855",
   "metadata": {},
   "source": [
    "# GENERAL CODE"
   ]
  },
  {
   "cell_type": "markdown",
   "id": "66655d33",
   "metadata": {},
   "source": [
    "## Loops and statements"
   ]
  },
  {
   "cell_type": "markdown",
   "id": "539447a0",
   "metadata": {},
   "source": [
    "If you are already familiar with Python, you have studied loops and statements, for sure. If you think you already know them pretty good, I advice you to look at this article and try som exercices.\n",
    "This article is evenfor beginners, so if you have never seen a Python loopis a good moment to begin.\n",
    "\n",
    "Here is the article:\n",
    "\n",
    "https://towardsdatascience.com/loops-and-statements-in-python-a-deep-understanding-with-examples-2099fc6e37d7"
   ]
  },
  {
   "cell_type": "code",
   "execution_count": null,
   "id": "5c2d877c",
   "metadata": {},
   "outputs": [],
   "source": []
  },
  {
   "cell_type": "markdown",
   "id": "b0ca04cd",
   "metadata": {},
   "source": [
    "## Creating subfolder if do not exist"
   ]
  },
  {
   "cell_type": "code",
   "execution_count": null,
   "id": "92641145",
   "metadata": {},
   "outputs": [],
   "source": [
    "import os\n",
    "\n",
    "#creating subfolders\n",
    "for dirname in ['fold_1', 'fold_2', 'fold_3']: #defining the subfolder names\n",
    "    if not os.path.exists(dirname):#if folders do not exist\n",
    "        os.makedirs(dirname) #I create them\n"
   ]
  },
  {
   "cell_type": "code",
   "execution_count": null,
   "id": "6c0b0cd3",
   "metadata": {},
   "outputs": [],
   "source": []
  },
  {
   "cell_type": "markdown",
   "id": "7acd3296",
   "metadata": {},
   "source": [
    "## Creating a CVS (recap) file if do not exists"
   ]
  },
  {
   "cell_type": "code",
   "execution_count": null,
   "id": "5a77a5ec",
   "metadata": {},
   "outputs": [],
   "source": [
    "import os\n",
    "import csv\n",
    "\n",
    "if not os.path.exists('recap.csv'):#if recap do not exist\n",
    "    recap = open('recap.csv', 'w', newline='') #I create it\n",
    "    writer = csv.writer(recap)\n",
    "    writer.writerow(['name', 'type']) #writing the header of the csv ('w')\n",
    "else:\n",
    "    recap = open('recap.csv', 'a', newline='') #if exists, I open it with'a' to append infos\n",
    "    writer = csv.writer(recap)"
   ]
  },
  {
   "cell_type": "code",
   "execution_count": null,
   "id": "453d4ebc",
   "metadata": {},
   "outputs": [],
   "source": []
  },
  {
   "cell_type": "markdown",
   "id": "e18aadc2",
   "metadata": {},
   "source": [
    "## Creating a config file"
   ]
  },
  {
   "cell_type": "code",
   "execution_count": null,
   "id": "07f7275e",
   "metadata": {},
   "outputs": [],
   "source": [
    "import configparser\n",
    "\n",
    "#creating configuration file\n",
    "conf = configparser.ConfigParser()\n",
    "\n",
    "#defining the info to append in the config file\n",
    "conf[\"data_directory\"] = {}\n",
    "conf[\"data_directory\"][\"data_dir\"] = \"C:\\\\Users\\\\Desktop\\\\...\" #my data directory\n",
    "\n",
    "#creating the config file\n",
    "with open(\"configfile.ini\", \"w\") as confile:\n",
    "    conf.write(confile)"
   ]
  },
  {
   "cell_type": "markdown",
   "id": "5ce1a36a",
   "metadata": {},
   "source": [
    "more to read (with a practical example) here:\n",
    "\n",
    "https://medium.com/mlearning-ai/how-and-why-creating-configurations-files-in-your-data-science-projects-1821b89cf47b"
   ]
  },
  {
   "cell_type": "code",
   "execution_count": null,
   "id": "150eedda",
   "metadata": {},
   "outputs": [],
   "source": []
  },
  {
   "cell_type": "markdown",
   "id": "fc8bfa02",
   "metadata": {},
   "source": [
    "## Creating a CLI parser with Argparse"
   ]
  },
  {
   "cell_type": "code",
   "execution_count": null,
   "id": "f2ab8762",
   "metadata": {},
   "outputs": [],
   "source": [
    "import argparse\n",
    "\n",
    "#creating parser\n",
    "parser = argparse.ArgumentParser()\n",
    "\n",
    "#specifying the arguments that has to be insert (as string, in this specific case)\n",
    "parser.add_argument('my_argument', type=str, help='this parser is useful to...') \n",
    "\n",
    "#parsing and controlling the arguments\n",
    "args = parser.parse_args()"
   ]
  },
  {
   "cell_type": "markdown",
   "id": "217f0db4",
   "metadata": {},
   "source": [
    "more to read (with a practical example) here:\n",
    "\n",
    "https://medium.com/mlearning-ai/how-argparse-can-be-useful-in-your-data-science-projects-ecf02bef3b07"
   ]
  },
  {
   "cell_type": "code",
   "execution_count": null,
   "id": "d0694e49",
   "metadata": {},
   "outputs": [],
   "source": []
  },
  {
   "cell_type": "markdown",
   "id": "936dd971",
   "metadata": {},
   "source": [
    "# PANDAS"
   ]
  },
  {
   "cell_type": "markdown",
   "id": "526656b1",
   "metadata": {},
   "source": [
    "## Accessing an Access table with Python (and show the data as tabular with Pandas)"
   ]
  },
  {
   "cell_type": "code",
   "execution_count": null,
   "id": "fd25dad9",
   "metadata": {},
   "outputs": [],
   "source": [
    "import pyodbc\n",
    "import pandas as pd"
   ]
  },
  {
   "cell_type": "code",
   "execution_count": null,
   "id": "39c2978d",
   "metadata": {},
   "outputs": [],
   "source": [
    "#connecting to access file\n",
    "conn = pyodbc.connect(r'Driver={Microsoft Access Driver (*.mdb, *.accdb)};DBQ=C:\\my_access_file.accdb;')\n",
    "\n",
    "#reading the table in the file\n",
    "sql_query = pd.read_sql_query ('''\n",
    "                               SELECT\n",
    "                               *\n",
    "                               FROM my_table\n",
    "                               ''', conn)\n",
    "\n",
    "#creating a dataframe from the data in the table\n",
    "df = pd.DataFrame(sql_query)\n"
   ]
  },
  {
   "cell_type": "code",
   "execution_count": null,
   "id": "b61070a6",
   "metadata": {},
   "outputs": [],
   "source": []
  },
  {
   "cell_type": "markdown",
   "id": "074e4ae5",
   "metadata": {},
   "source": [
    "## Creating a dataframe"
   ]
  },
  {
   "cell_type": "code",
   "execution_count": 1,
   "id": "c7d7fb4e",
   "metadata": {},
   "outputs": [
    {
     "data": {
      "text/html": [
       "<div>\n",
       "<style scoped>\n",
       "    .dataframe tbody tr th:only-of-type {\n",
       "        vertical-align: middle;\n",
       "    }\n",
       "\n",
       "    .dataframe tbody tr th {\n",
       "        vertical-align: top;\n",
       "    }\n",
       "\n",
       "    .dataframe thead th {\n",
       "        text-align: right;\n",
       "    }\n",
       "</style>\n",
       "<table border=\"1\" class=\"dataframe\">\n",
       "  <thead>\n",
       "    <tr style=\"text-align: right;\">\n",
       "      <th></th>\n",
       "      <th>Year</th>\n",
       "      <th>Time</th>\n",
       "    </tr>\n",
       "  </thead>\n",
       "  <tbody>\n",
       "    <tr>\n",
       "      <th>0</th>\n",
       "      <td>2018</td>\n",
       "      <td>20</td>\n",
       "    </tr>\n",
       "    <tr>\n",
       "      <th>1</th>\n",
       "      <td>2019</td>\n",
       "      <td>21</td>\n",
       "    </tr>\n",
       "    <tr>\n",
       "      <th>2</th>\n",
       "      <td>2020</td>\n",
       "      <td>19</td>\n",
       "    </tr>\n",
       "    <tr>\n",
       "      <th>3</th>\n",
       "      <td>2021</td>\n",
       "      <td>18</td>\n",
       "    </tr>\n",
       "    <tr>\n",
       "      <th>4</th>\n",
       "      <td>2018</td>\n",
       "      <td>20</td>\n",
       "    </tr>\n",
       "  </tbody>\n",
       "</table>\n",
       "</div>"
      ],
      "text/plain": [
       "   Year  Time\n",
       "0  2018    20\n",
       "1  2019    21\n",
       "2  2020    19\n",
       "3  2021    18\n",
       "4  2018    20"
      ]
     },
     "execution_count": 1,
     "metadata": {},
     "output_type": "execute_result"
    }
   ],
   "source": [
    "import pandas as pd\n",
    "\n",
    "#initializing values\n",
    "data = {'Year':[2018, 2019, 2020, 2021,\n",
    "                2018, 2019, 2020, 2021,\n",
    "                2018, 2019, 2020, 2021,],\n",
    "          'Time':[20, 21, 19, 18,\n",
    "                  20, 23, 19, 18,\n",
    "                  21, 22, 21, 20]\n",
    "}\n",
    "\n",
    "#creating dataframe\n",
    "df = pd.DataFrame(data)\n",
    "\n",
    "#showing head\n",
    "df.head()"
   ]
  },
  {
   "cell_type": "code",
   "execution_count": null,
   "id": "41a12ffd",
   "metadata": {},
   "outputs": [],
   "source": []
  },
  {
   "cell_type": "markdown",
   "id": "aacf2860",
   "metadata": {},
   "source": [
    "## Creating  Pandas column with values in a given range"
   ]
  },
  {
   "cell_type": "code",
   "execution_count": 5,
   "id": "76f3f2b2",
   "metadata": {},
   "outputs": [
    {
     "data": {
      "text/plain": [
       "0    1\n",
       "1    2\n",
       "2    3\n",
       "3    4\n",
       "4    5\n",
       "dtype: Int64"
      ]
     },
     "execution_count": 5,
     "metadata": {},
     "output_type": "execute_result"
    }
   ],
   "source": [
    "#defininf values\n",
    "years = pd.Series(range(1,150), dtype=\"Int64\") #I want just integers\n",
    "\n",
    "#showing column values\n",
    "years.head()"
   ]
  },
  {
   "cell_type": "code",
   "execution_count": null,
   "id": "46cc56bf",
   "metadata": {},
   "outputs": [],
   "source": []
  },
  {
   "cell_type": "markdown",
   "id": "a2e126ac",
   "metadata": {},
   "source": [
    "## Generalizing string values"
   ]
  },
  {
   "cell_type": "code",
   "execution_count": 24,
   "id": "d3dc3bc4",
   "metadata": {},
   "outputs": [
    {
     "data": {
      "text/html": [
       "<div>\n",
       "<style scoped>\n",
       "    .dataframe tbody tr th:only-of-type {\n",
       "        vertical-align: middle;\n",
       "    }\n",
       "\n",
       "    .dataframe tbody tr th {\n",
       "        vertical-align: top;\n",
       "    }\n",
       "\n",
       "    .dataframe thead th {\n",
       "        text-align: right;\n",
       "    }\n",
       "</style>\n",
       "<table border=\"1\" class=\"dataframe\">\n",
       "  <thead>\n",
       "    <tr style=\"text-align: right;\">\n",
       "      <th></th>\n",
       "      <th>animals</th>\n",
       "      <th>new</th>\n",
       "    </tr>\n",
       "  </thead>\n",
       "  <tbody>\n",
       "    <tr>\n",
       "      <th>0</th>\n",
       "      <td>dog</td>\n",
       "      <td>animal_1</td>\n",
       "    </tr>\n",
       "    <tr>\n",
       "      <th>1</th>\n",
       "      <td>cat</td>\n",
       "      <td>animal_2</td>\n",
       "    </tr>\n",
       "    <tr>\n",
       "      <th>2</th>\n",
       "      <td>pig</td>\n",
       "      <td>animal_3</td>\n",
       "    </tr>\n",
       "    <tr>\n",
       "      <th>3</th>\n",
       "      <td>dog</td>\n",
       "      <td>animal_1</td>\n",
       "    </tr>\n",
       "    <tr>\n",
       "      <th>4</th>\n",
       "      <td>cat</td>\n",
       "      <td>animal_2</td>\n",
       "    </tr>\n",
       "  </tbody>\n",
       "</table>\n",
       "</div>"
      ],
      "text/plain": [
       "  animals       new\n",
       "0     dog  animal_1\n",
       "1     cat  animal_2\n",
       "2     pig  animal_3\n",
       "3     dog  animal_1\n",
       "4     cat  animal_2"
      ]
     },
     "execution_count": 24,
     "metadata": {},
     "output_type": "execute_result"
    }
   ],
   "source": [
    "import pandas as pd\n",
    "\n",
    "#initializing values\n",
    "data  = {'animals': ['dog', 'cat', 'pig', 'dog', 'cat']}\n",
    "\n",
    "#creating dataframe\n",
    "df = pd.DataFrame(data)\n",
    "\n",
    "#adding new column with generalized values\n",
    "df['new'] = [f'animal_{i+1}' for i in pd.factorize(df['animals'])[0]]\n",
    "\n",
    "#showing head\n",
    "df.head()"
   ]
  },
  {
   "cell_type": "code",
   "execution_count": null,
   "id": "1868b701",
   "metadata": {},
   "outputs": [],
   "source": []
  },
  {
   "cell_type": "markdown",
   "id": "351db016",
   "metadata": {},
   "source": [
    "## Merging dtaframes"
   ]
  },
  {
   "cell_type": "code",
   "execution_count": 9,
   "id": "070a20b0",
   "metadata": {},
   "outputs": [
    {
     "data": {
      "text/html": [
       "<div>\n",
       "<style scoped>\n",
       "    .dataframe tbody tr th:only-of-type {\n",
       "        vertical-align: middle;\n",
       "    }\n",
       "\n",
       "    .dataframe tbody tr th {\n",
       "        vertical-align: top;\n",
       "    }\n",
       "\n",
       "    .dataframe thead th {\n",
       "        text-align: right;\n",
       "    }\n",
       "</style>\n",
       "<table border=\"1\" class=\"dataframe\">\n",
       "  <thead>\n",
       "    <tr style=\"text-align: right;\">\n",
       "      <th></th>\n",
       "      <th>Year</th>\n",
       "      <th>Time</th>\n",
       "    </tr>\n",
       "  </thead>\n",
       "  <tbody>\n",
       "    <tr>\n",
       "      <th>0</th>\n",
       "      <td>2018</td>\n",
       "      <td>20</td>\n",
       "    </tr>\n",
       "    <tr>\n",
       "      <th>1</th>\n",
       "      <td>2019</td>\n",
       "      <td>21</td>\n",
       "    </tr>\n",
       "    <tr>\n",
       "      <th>2</th>\n",
       "      <td>2020</td>\n",
       "      <td>19</td>\n",
       "    </tr>\n",
       "    <tr>\n",
       "      <th>3</th>\n",
       "      <td>2021</td>\n",
       "      <td>18</td>\n",
       "    </tr>\n",
       "    <tr>\n",
       "      <th>4</th>\n",
       "      <td>2018</td>\n",
       "      <td>20</td>\n",
       "    </tr>\n",
       "  </tbody>\n",
       "</table>\n",
       "</div>"
      ],
      "text/plain": [
       "   Year  Time\n",
       "0  2018    20\n",
       "1  2019    21\n",
       "2  2020    19\n",
       "3  2021    18\n",
       "4  2018    20"
      ]
     },
     "execution_count": 9,
     "metadata": {},
     "output_type": "execute_result"
    }
   ],
   "source": [
    "#initializing values\n",
    "data_1 = {'Year':[2018, 2019, 2020, 2021,\n",
    "                2018, 2019, 2020, 2021,\n",
    "                2018, 2019, 2020, 2021,]\n",
    "}\n",
    "\n",
    "data_2 = {'Time':[20, 21, 19, 18,\n",
    "                  20, 23, 19, 18,\n",
    "                  21, 22, 21, 20]\n",
    "}\n",
    "\n",
    "#creating dataframes\n",
    "df_1 = pd.DataFrame(data_1)\n",
    "df_2 = pd.DataFrame(data_2)\n",
    "\n",
    "#merging df1 and df2 to create a unique dataframe\n",
    "df = pd.merge(df_1,df_2, left_index=True, right_index=True)\n",
    "\n",
    "#showing head\n",
    "df.head()"
   ]
  },
  {
   "cell_type": "code",
   "execution_count": null,
   "id": "5ca63349",
   "metadata": {},
   "outputs": [],
   "source": []
  },
  {
   "cell_type": "markdown",
   "id": "19a950b4",
   "metadata": {},
   "source": [
    "## Melting columns"
   ]
  },
  {
   "cell_type": "code",
   "execution_count": 2,
   "id": "5dc0e255",
   "metadata": {},
   "outputs": [
    {
     "data": {
      "text/html": [
       "<div>\n",
       "<style scoped>\n",
       "    .dataframe tbody tr th:only-of-type {\n",
       "        vertical-align: middle;\n",
       "    }\n",
       "\n",
       "    .dataframe tbody tr th {\n",
       "        vertical-align: top;\n",
       "    }\n",
       "\n",
       "    .dataframe thead th {\n",
       "        text-align: right;\n",
       "    }\n",
       "</style>\n",
       "<table border=\"1\" class=\"dataframe\">\n",
       "  <thead>\n",
       "    <tr style=\"text-align: right;\">\n",
       "      <th></th>\n",
       "      <th>Year</th>\n",
       "      <th>the melted variables</th>\n",
       "      <th>value of the variables</th>\n",
       "    </tr>\n",
       "  </thead>\n",
       "  <tbody>\n",
       "    <tr>\n",
       "      <th>0</th>\n",
       "      <td>2018</td>\n",
       "      <td>val1</td>\n",
       "      <td>20</td>\n",
       "    </tr>\n",
       "    <tr>\n",
       "      <th>1</th>\n",
       "      <td>2019</td>\n",
       "      <td>val1</td>\n",
       "      <td>21</td>\n",
       "    </tr>\n",
       "    <tr>\n",
       "      <th>2</th>\n",
       "      <td>2020</td>\n",
       "      <td>val1</td>\n",
       "      <td>19</td>\n",
       "    </tr>\n",
       "    <tr>\n",
       "      <th>3</th>\n",
       "      <td>2021</td>\n",
       "      <td>val1</td>\n",
       "      <td>18</td>\n",
       "    </tr>\n",
       "    <tr>\n",
       "      <th>4</th>\n",
       "      <td>2018</td>\n",
       "      <td>val2</td>\n",
       "      <td>20</td>\n",
       "    </tr>\n",
       "  </tbody>\n",
       "</table>\n",
       "</div>"
      ],
      "text/plain": [
       "   Year the melted variables  value of the variables\n",
       "0  2018                 val1                      20\n",
       "1  2019                 val1                      21\n",
       "2  2020                 val1                      19\n",
       "3  2021                 val1                      18\n",
       "4  2018                 val2                      20"
      ]
     },
     "execution_count": 2,
     "metadata": {},
     "output_type": "execute_result"
    }
   ],
   "source": [
    "import pandas as pd\n",
    "\n",
    "#initializing values\n",
    "data = {'Year':[2018, 2019, 2020, 2021],\n",
    "          'val1':[20, 21, 19, 18],\n",
    "          'val2':[20, 23, 19, 18],\n",
    "          'val3':[21, 22, 21, 20]\n",
    "}\n",
    "\n",
    "#creating dataframe\n",
    "df = pd.DataFrame(data)\n",
    "\n",
    "#melting\n",
    "df_m = pd.melt(df, id_vars='Year', value_vars=['val1', 'val2', 'val3'],\n",
    "               var_name='the melted variables',\n",
    "               value_name='value of the variables')\n",
    "\n",
    "#showing\n",
    "df_m.head()"
   ]
  },
  {
   "cell_type": "code",
   "execution_count": null,
   "id": "8799f12f",
   "metadata": {},
   "outputs": [],
   "source": []
  },
  {
   "cell_type": "markdown",
   "id": "3a3d0adf",
   "metadata": {},
   "source": [
    "## Transposing a dataframe"
   ]
  },
  {
   "cell_type": "code",
   "execution_count": 3,
   "id": "8e521054",
   "metadata": {},
   "outputs": [
    {
     "data": {
      "text/html": [
       "<div>\n",
       "<style scoped>\n",
       "    .dataframe tbody tr th:only-of-type {\n",
       "        vertical-align: middle;\n",
       "    }\n",
       "\n",
       "    .dataframe tbody tr th {\n",
       "        vertical-align: top;\n",
       "    }\n",
       "\n",
       "    .dataframe thead th {\n",
       "        text-align: right;\n",
       "    }\n",
       "</style>\n",
       "<table border=\"1\" class=\"dataframe\">\n",
       "  <thead>\n",
       "    <tr style=\"text-align: right;\">\n",
       "      <th>Year</th>\n",
       "      <th>2018</th>\n",
       "      <th>2019</th>\n",
       "      <th>2020</th>\n",
       "      <th>2021</th>\n",
       "    </tr>\n",
       "  </thead>\n",
       "  <tbody>\n",
       "  </tbody>\n",
       "</table>\n",
       "</div>"
      ],
      "text/plain": [
       "Empty DataFrame\n",
       "Columns: [2018, 2019, 2020, 2021]\n",
       "Index: []"
      ]
     },
     "execution_count": 3,
     "metadata": {},
     "output_type": "execute_result"
    }
   ],
   "source": [
    "import pandas as pd\n",
    "\n",
    "#initializing values\n",
    "data = {'Year':[2018, 2019, 2020, 2021]}\n",
    "\n",
    "#creating dataframe\n",
    "df = pd.DataFrame(data)\n",
    "\n",
    "#trasposing\n",
    "df_trans = df.transpose() #or 'df.T'\n",
    "\n",
    "#creating column names\n",
    "df_trans.columns = df_trans.iloc[0] \n",
    "df_trans = df_trans.iloc[1:]\n",
    "\n",
    "#showing\n",
    "df_trans.head()"
   ]
  },
  {
   "cell_type": "code",
   "execution_count": null,
   "id": "3dcbceae",
   "metadata": {},
   "outputs": [],
   "source": []
  },
  {
   "cell_type": "markdown",
   "id": "20a3493c",
   "metadata": {},
   "source": [
    "## Droping NaNs in one specific column"
   ]
  },
  {
   "cell_type": "code",
   "execution_count": null,
   "id": "b84c62d5",
   "metadata": {},
   "outputs": [],
   "source": [
    "#dropping rows with all 'Nans' in 'My_column' column from the dta frame 'df'\n",
    "df.dropna(axis=0, how='all', subset=['My_column'], inplace=True)"
   ]
  },
  {
   "cell_type": "code",
   "execution_count": null,
   "id": "9d3ef92e",
   "metadata": {},
   "outputs": [],
   "source": []
  },
  {
   "cell_type": "markdown",
   "id": "65dd2d6e",
   "metadata": {},
   "source": [
    "## How many values present themself in a specific column more than twice?"
   ]
  },
  {
   "cell_type": "code",
   "execution_count": 2,
   "id": "a7e9b7db",
   "metadata": {},
   "outputs": [
    {
     "data": {
      "text/plain": [
       "2018    3\n",
       "2019    3\n",
       "2020    3\n",
       "Name: Year, dtype: int64"
      ]
     },
     "execution_count": 2,
     "metadata": {},
     "output_type": "execute_result"
    }
   ],
   "source": [
    "import pandas as pd\n",
    "\n",
    "#initializing values\n",
    "data = {'Year':[2018, 2019, 2020, 2021,\n",
    "                2018, 2019, 2020, 2021,\n",
    "                2018, 2019, 2020, 2017]\n",
    "}\n",
    "\n",
    "#creating dataframe\n",
    "df = pd.DataFrame(data)\n",
    "\n",
    "#values that present themself more than twice in the Years column\n",
    "df['Year'].value_counts().loc[lambda x:x>2]"
   ]
  },
  {
   "cell_type": "code",
   "execution_count": null,
   "id": "23fb4d36",
   "metadata": {},
   "outputs": [],
   "source": []
  },
  {
   "cell_type": "markdown",
   "id": "063bd5f8",
   "metadata": {},
   "source": [
    "## Creating a column 'Month', extracting the months from a 'date' existing column, and directly appending it to an existing dataframe"
   ]
  },
  {
   "cell_type": "code",
   "execution_count": null,
   "id": "0d47d90f",
   "metadata": {},
   "outputs": [],
   "source": [
    "import pandas as pd\n",
    "\n",
    "df['month'] = pd.DatetimeIndex(df['date']).month"
   ]
  },
  {
   "cell_type": "code",
   "execution_count": null,
   "id": "089e0f91",
   "metadata": {},
   "outputs": [],
   "source": []
  },
  {
   "cell_type": "markdown",
   "id": "0a61b830",
   "metadata": {},
   "source": [
    "## Calculating mean values and sorting for values. Counting values and sorting for index"
   ]
  },
  {
   "cell_type": "code",
   "execution_count": 2,
   "id": "110fe9b5",
   "metadata": {},
   "outputs": [],
   "source": [
    "import pandas as pd\n",
    "\n",
    "# initializing values\n",
    "data = {'Name':['Tom', 'Jack', 'Nick', 'John',\n",
    "                'Tom', 'Jack', 'Nick', 'John',\n",
    "                'Tom', 'Jack', 'Nick', 'John',],\n",
    "        'Time':[20, 21, 19, 18,\n",
    "                20, 100, 19, 18,\n",
    "                21, 22, 21, 20]\n",
    "}\n",
    "\n",
    "#creating dataframe\n",
    "df = pd.DataFrame(data)\n",
    "\n",
    "#calculating mean values and sorting for 'Name'\n",
    "b = df.sort_values('Name').groupby('Name').mean()\n",
    "\n",
    "#counting single values in 'Time' and sorting for index\n",
    "c = df['Time'].value_counts().sort_index()"
   ]
  },
  {
   "cell_type": "code",
   "execution_count": 5,
   "id": "7c1a1a87",
   "metadata": {},
   "outputs": [
    {
     "data": {
      "text/html": [
       "<div>\n",
       "<style scoped>\n",
       "    .dataframe tbody tr th:only-of-type {\n",
       "        vertical-align: middle;\n",
       "    }\n",
       "\n",
       "    .dataframe tbody tr th {\n",
       "        vertical-align: top;\n",
       "    }\n",
       "\n",
       "    .dataframe thead th {\n",
       "        text-align: right;\n",
       "    }\n",
       "</style>\n",
       "<table border=\"1\" class=\"dataframe\">\n",
       "  <thead>\n",
       "    <tr style=\"text-align: right;\">\n",
       "      <th></th>\n",
       "      <th>Time</th>\n",
       "    </tr>\n",
       "    <tr>\n",
       "      <th>Name</th>\n",
       "      <th></th>\n",
       "    </tr>\n",
       "  </thead>\n",
       "  <tbody>\n",
       "    <tr>\n",
       "      <th>Jack</th>\n",
       "      <td>47.666667</td>\n",
       "    </tr>\n",
       "    <tr>\n",
       "      <th>John</th>\n",
       "      <td>18.666667</td>\n",
       "    </tr>\n",
       "    <tr>\n",
       "      <th>Nick</th>\n",
       "      <td>19.666667</td>\n",
       "    </tr>\n",
       "    <tr>\n",
       "      <th>Tom</th>\n",
       "      <td>20.333333</td>\n",
       "    </tr>\n",
       "  </tbody>\n",
       "</table>\n",
       "</div>"
      ],
      "text/plain": [
       "           Time\n",
       "Name           \n",
       "Jack  47.666667\n",
       "John  18.666667\n",
       "Nick  19.666667\n",
       "Tom   20.333333"
      ]
     },
     "execution_count": 5,
     "metadata": {},
     "output_type": "execute_result"
    }
   ],
   "source": [
    "b"
   ]
  },
  {
   "cell_type": "code",
   "execution_count": 6,
   "id": "2d245aab",
   "metadata": {},
   "outputs": [
    {
     "data": {
      "text/plain": [
       "18     2\n",
       "19     2\n",
       "20     3\n",
       "21     3\n",
       "22     1\n",
       "100    1\n",
       "Name: Time, dtype: int64"
      ]
     },
     "execution_count": 6,
     "metadata": {},
     "output_type": "execute_result"
    }
   ],
   "source": [
    "c"
   ]
  },
  {
   "cell_type": "code",
   "execution_count": null,
   "id": "be7858bc",
   "metadata": {},
   "outputs": [],
   "source": []
  },
  {
   "cell_type": "markdown",
   "id": "a468d7eb",
   "metadata": {},
   "source": [
    "## Filtering, sorting and grouping"
   ]
  },
  {
   "cell_type": "code",
   "execution_count": 10,
   "id": "88690dfc",
   "metadata": {},
   "outputs": [
    {
     "data": {
      "text/html": [
       "<div>\n",
       "<style scoped>\n",
       "    .dataframe tbody tr th:only-of-type {\n",
       "        vertical-align: middle;\n",
       "    }\n",
       "\n",
       "    .dataframe tbody tr th {\n",
       "        vertical-align: top;\n",
       "    }\n",
       "\n",
       "    .dataframe thead th {\n",
       "        text-align: right;\n",
       "    }\n",
       "</style>\n",
       "<table border=\"1\" class=\"dataframe\">\n",
       "  <thead>\n",
       "    <tr style=\"text-align: right;\">\n",
       "      <th></th>\n",
       "      <th>Name</th>\n",
       "      <th>Time</th>\n",
       "    </tr>\n",
       "  </thead>\n",
       "  <tbody>\n",
       "    <tr>\n",
       "      <th>1</th>\n",
       "      <td>Jack</td>\n",
       "      <td>21</td>\n",
       "    </tr>\n",
       "    <tr>\n",
       "      <th>5</th>\n",
       "      <td>Jack</td>\n",
       "      <td>100</td>\n",
       "    </tr>\n",
       "    <tr>\n",
       "      <th>9</th>\n",
       "      <td>Jack</td>\n",
       "      <td>22</td>\n",
       "    </tr>\n",
       "    <tr>\n",
       "      <th>3</th>\n",
       "      <td>John</td>\n",
       "      <td>18</td>\n",
       "    </tr>\n",
       "    <tr>\n",
       "      <th>7</th>\n",
       "      <td>John</td>\n",
       "      <td>18</td>\n",
       "    </tr>\n",
       "    <tr>\n",
       "      <th>11</th>\n",
       "      <td>John</td>\n",
       "      <td>20</td>\n",
       "    </tr>\n",
       "    <tr>\n",
       "      <th>2</th>\n",
       "      <td>Nick</td>\n",
       "      <td>19</td>\n",
       "    </tr>\n",
       "    <tr>\n",
       "      <th>6</th>\n",
       "      <td>Nick</td>\n",
       "      <td>19</td>\n",
       "    </tr>\n",
       "    <tr>\n",
       "      <th>10</th>\n",
       "      <td>Nick</td>\n",
       "      <td>21</td>\n",
       "    </tr>\n",
       "    <tr>\n",
       "      <th>0</th>\n",
       "      <td>Tom</td>\n",
       "      <td>20</td>\n",
       "    </tr>\n",
       "    <tr>\n",
       "      <th>4</th>\n",
       "      <td>Tom</td>\n",
       "      <td>20</td>\n",
       "    </tr>\n",
       "    <tr>\n",
       "      <th>8</th>\n",
       "      <td>Tom</td>\n",
       "      <td>21</td>\n",
       "    </tr>\n",
       "  </tbody>\n",
       "</table>\n",
       "</div>"
      ],
      "text/plain": [
       "    Name  Time\n",
       "1   Jack    21\n",
       "5   Jack   100\n",
       "9   Jack    22\n",
       "3   John    18\n",
       "7   John    18\n",
       "11  John    20\n",
       "2   Nick    19\n",
       "6   Nick    19\n",
       "10  Nick    21\n",
       "0    Tom    20\n",
       "4    Tom    20\n",
       "8    Tom    21"
      ]
     },
     "execution_count": 10,
     "metadata": {},
     "output_type": "execute_result"
    }
   ],
   "source": [
    "import pandas as pd\n",
    "\n",
    "# initializing values\n",
    "data = {'Name':['Tom', 'Jack', 'Nick', 'John',\n",
    "                'Tom', 'Jack', 'Nick', 'John',\n",
    "                'Tom', 'Jack', 'Nick', 'John',],\n",
    "        'Time':[20, 21, 19, 18,\n",
    "                20, 100, 19, 18,\n",
    "                21, 22, 21, 20]\n",
    "}\n",
    "\n",
    "#creating dataframe\n",
    "df = pd.DataFrame(data)\n",
    "\n",
    "#filtering for 'Name' and 'Time', sorting for Name, gropuping for Time\n",
    "filtered = df.filter(['Name', 'Time']).sort_values('Name').groupby('Time')\n",
    "\n",
    "#showing head\n",
    "filtered.head()"
   ]
  },
  {
   "cell_type": "code",
   "execution_count": null,
   "id": "ef71d68b",
   "metadata": {},
   "outputs": [],
   "source": []
  },
  {
   "cell_type": "markdown",
   "id": "0e2c27aa",
   "metadata": {},
   "source": [
    "## Filtering for a value"
   ]
  },
  {
   "cell_type": "code",
   "execution_count": 1,
   "id": "8dc9aa16",
   "metadata": {},
   "outputs": [
    {
     "data": {
      "text/html": [
       "<div>\n",
       "<style scoped>\n",
       "    .dataframe tbody tr th:only-of-type {\n",
       "        vertical-align: middle;\n",
       "    }\n",
       "\n",
       "    .dataframe tbody tr th {\n",
       "        vertical-align: top;\n",
       "    }\n",
       "\n",
       "    .dataframe thead th {\n",
       "        text-align: right;\n",
       "    }\n",
       "</style>\n",
       "<table border=\"1\" class=\"dataframe\">\n",
       "  <thead>\n",
       "    <tr style=\"text-align: right;\">\n",
       "      <th></th>\n",
       "      <th>Name</th>\n",
       "      <th>Time</th>\n",
       "    </tr>\n",
       "  </thead>\n",
       "  <tbody>\n",
       "    <tr>\n",
       "      <th>0</th>\n",
       "      <td>Tom</td>\n",
       "      <td>20</td>\n",
       "    </tr>\n",
       "    <tr>\n",
       "      <th>4</th>\n",
       "      <td>Tom</td>\n",
       "      <td>20</td>\n",
       "    </tr>\n",
       "    <tr>\n",
       "      <th>8</th>\n",
       "      <td>Tom</td>\n",
       "      <td>21</td>\n",
       "    </tr>\n",
       "  </tbody>\n",
       "</table>\n",
       "</div>"
      ],
      "text/plain": [
       "  Name  Time\n",
       "0  Tom    20\n",
       "4  Tom    20\n",
       "8  Tom    21"
      ]
     },
     "execution_count": 1,
     "metadata": {},
     "output_type": "execute_result"
    }
   ],
   "source": [
    "import pandas as pd\n",
    "\n",
    "# initializing values\n",
    "data = {'Name':['Tom', 'Jack', 'Nick', 'John',\n",
    "                'Tom', 'Jack', 'Nick', 'John',\n",
    "                'Tom', 'Jack', 'Nick', 'John',],\n",
    "        'Time':[20, 21, 19, 18,\n",
    "                20, 100, 19, 18,\n",
    "                21, 22, 21, 20]\n",
    "}\n",
    "\n",
    "#creating dataframe\n",
    "df = pd.DataFrame(data)\n",
    "\n",
    "#filtering name for Tom\n",
    "Tom = df[df['Name']=='Tom']\n",
    "\n",
    "#showing head\n",
    "Tom.head()"
   ]
  },
  {
   "cell_type": "code",
   "execution_count": null,
   "id": "253f0b9a",
   "metadata": {},
   "outputs": [],
   "source": []
  },
  {
   "cell_type": "markdown",
   "id": "0f9f6166",
   "metadata": {},
   "source": [
    "## Calculating mean and standard deviation and cleaning data"
   ]
  },
  {
   "cell_type": "code",
   "execution_count": 1,
   "id": "275ea6ca",
   "metadata": {},
   "outputs": [
    {
     "data": {
      "text/html": [
       "<div>\n",
       "<style scoped>\n",
       "    .dataframe tbody tr th:only-of-type {\n",
       "        vertical-align: middle;\n",
       "    }\n",
       "\n",
       "    .dataframe tbody tr th {\n",
       "        vertical-align: top;\n",
       "    }\n",
       "\n",
       "    .dataframe thead th {\n",
       "        text-align: right;\n",
       "    }\n",
       "</style>\n",
       "<table border=\"1\" class=\"dataframe\">\n",
       "  <thead>\n",
       "    <tr style=\"text-align: right;\">\n",
       "      <th></th>\n",
       "      <th>Name</th>\n",
       "      <th>Time</th>\n",
       "    </tr>\n",
       "  </thead>\n",
       "  <tbody>\n",
       "    <tr>\n",
       "      <th>0</th>\n",
       "      <td>Tom</td>\n",
       "      <td>20</td>\n",
       "    </tr>\n",
       "    <tr>\n",
       "      <th>1</th>\n",
       "      <td>Jack</td>\n",
       "      <td>21</td>\n",
       "    </tr>\n",
       "    <tr>\n",
       "      <th>2</th>\n",
       "      <td>Nick</td>\n",
       "      <td>19</td>\n",
       "    </tr>\n",
       "    <tr>\n",
       "      <th>3</th>\n",
       "      <td>John</td>\n",
       "      <td>18</td>\n",
       "    </tr>\n",
       "    <tr>\n",
       "      <th>4</th>\n",
       "      <td>Tom</td>\n",
       "      <td>20</td>\n",
       "    </tr>\n",
       "    <tr>\n",
       "      <th>5</th>\n",
       "      <td>Jack</td>\n",
       "      <td>17</td>\n",
       "    </tr>\n",
       "    <tr>\n",
       "      <th>6</th>\n",
       "      <td>Nick</td>\n",
       "      <td>19</td>\n",
       "    </tr>\n",
       "    <tr>\n",
       "      <th>7</th>\n",
       "      <td>John</td>\n",
       "      <td>18</td>\n",
       "    </tr>\n",
       "    <tr>\n",
       "      <th>8</th>\n",
       "      <td>Tom</td>\n",
       "      <td>21</td>\n",
       "    </tr>\n",
       "    <tr>\n",
       "      <th>9</th>\n",
       "      <td>Jack</td>\n",
       "      <td>22</td>\n",
       "    </tr>\n",
       "    <tr>\n",
       "      <th>10</th>\n",
       "      <td>Nick</td>\n",
       "      <td>21</td>\n",
       "    </tr>\n",
       "    <tr>\n",
       "      <th>11</th>\n",
       "      <td>John</td>\n",
       "      <td>20</td>\n",
       "    </tr>\n",
       "  </tbody>\n",
       "</table>\n",
       "</div>"
      ],
      "text/plain": [
       "    Name  Time\n",
       "0    Tom    20\n",
       "1   Jack    21\n",
       "2   Nick    19\n",
       "3   John    18\n",
       "4    Tom    20\n",
       "5   Jack    17\n",
       "6   Nick    19\n",
       "7   John    18\n",
       "8    Tom    21\n",
       "9   Jack    22\n",
       "10  Nick    21\n",
       "11  John    20"
      ]
     },
     "execution_count": 1,
     "metadata": {},
     "output_type": "execute_result"
    }
   ],
   "source": [
    "import pandas as pd\n",
    "\n",
    "# initializing values\n",
    "data = {'Name':['Tom', 'Jack', 'Nick', 'John',\n",
    "                'Tom', 'Jack', 'Nick', 'John',\n",
    "                'Tom', 'Jack', 'Nick', 'John',],\n",
    "        'Time':[20, 21, 19, 18,\n",
    "                20, 17, 19, 18,\n",
    "                21, 22, 21, 20]\n",
    "}\n",
    "\n",
    "#creating dataframe\n",
    "df = pd.DataFrame(data)\n",
    "\n",
    "#showing dataframe\n",
    "df"
   ]
  },
  {
   "cell_type": "code",
   "execution_count": 2,
   "id": "3e6fb088",
   "metadata": {},
   "outputs": [
    {
     "data": {
      "text/html": [
       "<div>\n",
       "<style scoped>\n",
       "    .dataframe tbody tr th:only-of-type {\n",
       "        vertical-align: middle;\n",
       "    }\n",
       "\n",
       "    .dataframe tbody tr th {\n",
       "        vertical-align: top;\n",
       "    }\n",
       "\n",
       "    .dataframe thead th {\n",
       "        text-align: right;\n",
       "    }\n",
       "</style>\n",
       "<table border=\"1\" class=\"dataframe\">\n",
       "  <thead>\n",
       "    <tr style=\"text-align: right;\">\n",
       "      <th></th>\n",
       "      <th>Name</th>\n",
       "      <th>Time</th>\n",
       "    </tr>\n",
       "  </thead>\n",
       "  <tbody>\n",
       "    <tr>\n",
       "      <th>0</th>\n",
       "      <td>Tom</td>\n",
       "      <td>20</td>\n",
       "    </tr>\n",
       "    <tr>\n",
       "      <th>1</th>\n",
       "      <td>Jack</td>\n",
       "      <td>21</td>\n",
       "    </tr>\n",
       "    <tr>\n",
       "      <th>2</th>\n",
       "      <td>Nick</td>\n",
       "      <td>19</td>\n",
       "    </tr>\n",
       "    <tr>\n",
       "      <th>4</th>\n",
       "      <td>Tom</td>\n",
       "      <td>20</td>\n",
       "    </tr>\n",
       "    <tr>\n",
       "      <th>6</th>\n",
       "      <td>Nick</td>\n",
       "      <td>19</td>\n",
       "    </tr>\n",
       "    <tr>\n",
       "      <th>8</th>\n",
       "      <td>Tom</td>\n",
       "      <td>21</td>\n",
       "    </tr>\n",
       "    <tr>\n",
       "      <th>10</th>\n",
       "      <td>Nick</td>\n",
       "      <td>21</td>\n",
       "    </tr>\n",
       "    <tr>\n",
       "      <th>11</th>\n",
       "      <td>John</td>\n",
       "      <td>20</td>\n",
       "    </tr>\n",
       "  </tbody>\n",
       "</table>\n",
       "</div>"
      ],
      "text/plain": [
       "    Name  Time\n",
       "0    Tom    20\n",
       "1   Jack    21\n",
       "2   Nick    19\n",
       "4    Tom    20\n",
       "6   Nick    19\n",
       "8    Tom    21\n",
       "10  Nick    21\n",
       "11  John    20"
      ]
     },
     "execution_count": 2,
     "metadata": {},
     "output_type": "execute_result"
    }
   ],
   "source": [
    "#calculating mean and standard deviation of the column 'Time'\n",
    "mean = df['Time'].mean() #mean\n",
    "sd = df['Time'].std() #standard deviation\n",
    "\n",
    "#cleaning 'Time' column in the interval (mean-sd; mean+sd)\n",
    "time_cleaned = df[(df['Time'] > (mean-sd)) & (df['Time'] < (mean+sd))]\n",
    "\n",
    "#showing cleaned dataframe\n",
    "time_cleaned"
   ]
  },
  {
   "cell_type": "code",
   "execution_count": null,
   "id": "55852855",
   "metadata": {},
   "outputs": [],
   "source": []
  },
  {
   "cell_type": "markdown",
   "id": "5d383d94",
   "metadata": {},
   "source": [
    "Note that the primary purpose of the above code is just to show how to filter a column in a given range.\n",
    "\n",
    "Filtering in the interval (mean-sd; mean+sd) is typycal of normal distribute data, which probably is not the case of the above data; anyway, sometimes it is a good idea to filter data in the (mean-sd; mean+sd) interval even if data are not normally distributed (or if we do no know how ae distributed) and we can do it just for deleting the 'too high' and 'too low' values for calculate later the mean value of the data (which will not be effected by the 'too high' and the 'too low' values)."
   ]
  },
  {
   "cell_type": "code",
   "execution_count": null,
   "id": "6678ea63",
   "metadata": {},
   "outputs": [],
   "source": []
  },
  {
   "cell_type": "markdown",
   "id": "91de873f",
   "metadata": {},
   "source": [
    "## Select rows and columns for specific values with 'loc()' and 'iloc()'"
   ]
  },
  {
   "cell_type": "code",
   "execution_count": 5,
   "id": "2bf1394e",
   "metadata": {},
   "outputs": [],
   "source": [
    "import pandas as pd\n",
    " \n",
    "# initialize data of lists.\n",
    "data = {'Time':[10, 11, 12, 10,\n",
    "               10, 11, 12, 12,\n",
    "               11, 12, 10, 9,],\n",
    "        'Age':[20, 21, 19, 18,\n",
    "               20, 23, 19, 18,\n",
    "               21, 22, 21, 20]\n",
    "}\n",
    " \n",
    "# Create DataFrame\n",
    "df = pd.DataFrame(data)"
   ]
  },
  {
   "cell_type": "code",
   "execution_count": 6,
   "id": "9b5e8a6b",
   "metadata": {},
   "outputs": [
    {
     "data": {
      "text/html": [
       "<div>\n",
       "<style scoped>\n",
       "    .dataframe tbody tr th:only-of-type {\n",
       "        vertical-align: middle;\n",
       "    }\n",
       "\n",
       "    .dataframe tbody tr th {\n",
       "        vertical-align: top;\n",
       "    }\n",
       "\n",
       "    .dataframe thead th {\n",
       "        text-align: right;\n",
       "    }\n",
       "</style>\n",
       "<table border=\"1\" class=\"dataframe\">\n",
       "  <thead>\n",
       "    <tr style=\"text-align: right;\">\n",
       "      <th></th>\n",
       "      <th>Time</th>\n",
       "      <th>Age</th>\n",
       "    </tr>\n",
       "  </thead>\n",
       "  <tbody>\n",
       "    <tr>\n",
       "      <th>0</th>\n",
       "      <td>10</td>\n",
       "      <td>20</td>\n",
       "    </tr>\n",
       "    <tr>\n",
       "      <th>3</th>\n",
       "      <td>10</td>\n",
       "      <td>18</td>\n",
       "    </tr>\n",
       "    <tr>\n",
       "      <th>4</th>\n",
       "      <td>10</td>\n",
       "      <td>20</td>\n",
       "    </tr>\n",
       "    <tr>\n",
       "      <th>10</th>\n",
       "      <td>10</td>\n",
       "      <td>21</td>\n",
       "    </tr>\n",
       "  </tbody>\n",
       "</table>\n",
       "</div>"
      ],
      "text/plain": [
       "    Time  Age\n",
       "0     10   20\n",
       "3     10   18\n",
       "4     10   20\n",
       "10    10   21"
      ]
     },
     "execution_count": 6,
     "metadata": {},
     "output_type": "execute_result"
    }
   ],
   "source": [
    "#loc\n",
    "df.loc[df['Time'] == 10] #all the values with Time=10 with respective Age values"
   ]
  },
  {
   "cell_type": "code",
   "execution_count": 7,
   "id": "d5839fdb",
   "metadata": {},
   "outputs": [
    {
     "data": {
      "text/plain": [
       "Time    10\n",
       "Age     21\n",
       "Name: 10, dtype: int64"
      ]
     },
     "execution_count": 7,
     "metadata": {},
     "output_type": "execute_result"
    }
   ],
   "source": [
    "#iloc \n",
    "df.iloc[df['Time'][0]] #selects first value in 'Time' and gives the corrispective in 'Age'"
   ]
  },
  {
   "cell_type": "code",
   "execution_count": 8,
   "id": "031d7b02",
   "metadata": {},
   "outputs": [
    {
     "data": {
      "text/html": [
       "<div>\n",
       "<style scoped>\n",
       "    .dataframe tbody tr th:only-of-type {\n",
       "        vertical-align: middle;\n",
       "    }\n",
       "\n",
       "    .dataframe tbody tr th {\n",
       "        vertical-align: top;\n",
       "    }\n",
       "\n",
       "    .dataframe thead th {\n",
       "        text-align: right;\n",
       "    }\n",
       "</style>\n",
       "<table border=\"1\" class=\"dataframe\">\n",
       "  <thead>\n",
       "    <tr style=\"text-align: right;\">\n",
       "      <th></th>\n",
       "      <th>Time</th>\n",
       "      <th>Age</th>\n",
       "    </tr>\n",
       "  </thead>\n",
       "  <tbody>\n",
       "    <tr>\n",
       "      <th>2</th>\n",
       "      <td>12</td>\n",
       "      <td>19</td>\n",
       "    </tr>\n",
       "    <tr>\n",
       "      <th>6</th>\n",
       "      <td>12</td>\n",
       "      <td>19</td>\n",
       "    </tr>\n",
       "    <tr>\n",
       "      <th>7</th>\n",
       "      <td>12</td>\n",
       "      <td>18</td>\n",
       "    </tr>\n",
       "    <tr>\n",
       "      <th>9</th>\n",
       "      <td>12</td>\n",
       "      <td>22</td>\n",
       "    </tr>\n",
       "  </tbody>\n",
       "</table>\n",
       "</div>"
      ],
      "text/plain": [
       "   Time  Age\n",
       "2    12   19\n",
       "6    12   19\n",
       "7    12   18\n",
       "9    12   22"
      ]
     },
     "execution_count": 8,
     "metadata": {},
     "output_type": "execute_result"
    }
   ],
   "source": [
    "#calculating max time\n",
    "t_max = df['Time'].max()\n",
    "\n",
    "#selecting all the rows associated to the max time\n",
    "df.loc[df['Time'] == t_max]"
   ]
  },
  {
   "cell_type": "code",
   "execution_count": null,
   "id": "8158ff5f",
   "metadata": {},
   "outputs": [],
   "source": []
  },
  {
   "cell_type": "markdown",
   "id": "2e53f484",
   "metadata": {},
   "source": [
    "## Add values in a new column based on a treshold in an existing column"
   ]
  },
  {
   "cell_type": "code",
   "execution_count": 5,
   "id": "69a7d89f",
   "metadata": {},
   "outputs": [
    {
     "data": {
      "text/html": [
       "<div>\n",
       "<style scoped>\n",
       "    .dataframe tbody tr th:only-of-type {\n",
       "        vertical-align: middle;\n",
       "    }\n",
       "\n",
       "    .dataframe tbody tr th {\n",
       "        vertical-align: top;\n",
       "    }\n",
       "\n",
       "    .dataframe thead th {\n",
       "        text-align: right;\n",
       "    }\n",
       "</style>\n",
       "<table border=\"1\" class=\"dataframe\">\n",
       "  <thead>\n",
       "    <tr style=\"text-align: right;\">\n",
       "      <th></th>\n",
       "      <th>Year</th>\n",
       "      <th>Time</th>\n",
       "    </tr>\n",
       "  </thead>\n",
       "  <tbody>\n",
       "    <tr>\n",
       "      <th>0</th>\n",
       "      <td>2018</td>\n",
       "      <td>20</td>\n",
       "    </tr>\n",
       "    <tr>\n",
       "      <th>1</th>\n",
       "      <td>2019</td>\n",
       "      <td>21</td>\n",
       "    </tr>\n",
       "    <tr>\n",
       "      <th>2</th>\n",
       "      <td>2020</td>\n",
       "      <td>19</td>\n",
       "    </tr>\n",
       "    <tr>\n",
       "      <th>3</th>\n",
       "      <td>2021</td>\n",
       "      <td>18</td>\n",
       "    </tr>\n",
       "    <tr>\n",
       "      <th>4</th>\n",
       "      <td>2018</td>\n",
       "      <td>20</td>\n",
       "    </tr>\n",
       "    <tr>\n",
       "      <th>5</th>\n",
       "      <td>2019</td>\n",
       "      <td>23</td>\n",
       "    </tr>\n",
       "    <tr>\n",
       "      <th>6</th>\n",
       "      <td>2020</td>\n",
       "      <td>19</td>\n",
       "    </tr>\n",
       "    <tr>\n",
       "      <th>7</th>\n",
       "      <td>2021</td>\n",
       "      <td>18</td>\n",
       "    </tr>\n",
       "    <tr>\n",
       "      <th>8</th>\n",
       "      <td>2018</td>\n",
       "      <td>21</td>\n",
       "    </tr>\n",
       "    <tr>\n",
       "      <th>9</th>\n",
       "      <td>2019</td>\n",
       "      <td>22</td>\n",
       "    </tr>\n",
       "    <tr>\n",
       "      <th>10</th>\n",
       "      <td>2020</td>\n",
       "      <td>21</td>\n",
       "    </tr>\n",
       "    <tr>\n",
       "      <th>11</th>\n",
       "      <td>2021</td>\n",
       "      <td>20</td>\n",
       "    </tr>\n",
       "  </tbody>\n",
       "</table>\n",
       "</div>"
      ],
      "text/plain": [
       "    Year  Time\n",
       "0   2018    20\n",
       "1   2019    21\n",
       "2   2020    19\n",
       "3   2021    18\n",
       "4   2018    20\n",
       "5   2019    23\n",
       "6   2020    19\n",
       "7   2021    18\n",
       "8   2018    21\n",
       "9   2019    22\n",
       "10  2020    21\n",
       "11  2021    20"
      ]
     },
     "execution_count": 5,
     "metadata": {},
     "output_type": "execute_result"
    }
   ],
   "source": [
    "import pandas as pd\n",
    "\n",
    "#initializing values\n",
    "data = {'Year':[2018, 2019, 2020, 2021,\n",
    "                2018, 2019, 2020, 2021,\n",
    "                2018, 2019, 2020, 2021,],\n",
    "          'Time':[20, 21, 19, 18,\n",
    "                  20, 23, 19, 18,\n",
    "                  21, 22, 21, 20]\n",
    "}\n",
    "\n",
    "#creating dataframe\n",
    "df = pd.DataFrame(data)\n",
    "\n",
    "#showing df\n",
    "df"
   ]
  },
  {
   "cell_type": "markdown",
   "id": "bc0feee4",
   "metadata": {},
   "source": [
    "Now, I define a treshold.  For all the values bigger than the treshold, the following code will assign the value 1 in a new column (called 'new'). For values lower than the treshold, it will assign the value 0. It is a way to prepare the data for a classification problem in Machine Learning"
   ]
  },
  {
   "cell_type": "code",
   "execution_count": 6,
   "id": "47876086",
   "metadata": {},
   "outputs": [
    {
     "data": {
      "text/html": [
       "<div>\n",
       "<style scoped>\n",
       "    .dataframe tbody tr th:only-of-type {\n",
       "        vertical-align: middle;\n",
       "    }\n",
       "\n",
       "    .dataframe tbody tr th {\n",
       "        vertical-align: top;\n",
       "    }\n",
       "\n",
       "    .dataframe thead th {\n",
       "        text-align: right;\n",
       "    }\n",
       "</style>\n",
       "<table border=\"1\" class=\"dataframe\">\n",
       "  <thead>\n",
       "    <tr style=\"text-align: right;\">\n",
       "      <th></th>\n",
       "      <th>Year</th>\n",
       "      <th>Time</th>\n",
       "      <th>new</th>\n",
       "    </tr>\n",
       "  </thead>\n",
       "  <tbody>\n",
       "    <tr>\n",
       "      <th>0</th>\n",
       "      <td>2018</td>\n",
       "      <td>20</td>\n",
       "      <td>1</td>\n",
       "    </tr>\n",
       "    <tr>\n",
       "      <th>1</th>\n",
       "      <td>2019</td>\n",
       "      <td>21</td>\n",
       "      <td>1</td>\n",
       "    </tr>\n",
       "    <tr>\n",
       "      <th>2</th>\n",
       "      <td>2020</td>\n",
       "      <td>19</td>\n",
       "      <td>0</td>\n",
       "    </tr>\n",
       "    <tr>\n",
       "      <th>3</th>\n",
       "      <td>2021</td>\n",
       "      <td>18</td>\n",
       "      <td>0</td>\n",
       "    </tr>\n",
       "    <tr>\n",
       "      <th>4</th>\n",
       "      <td>2018</td>\n",
       "      <td>20</td>\n",
       "      <td>1</td>\n",
       "    </tr>\n",
       "    <tr>\n",
       "      <th>5</th>\n",
       "      <td>2019</td>\n",
       "      <td>23</td>\n",
       "      <td>1</td>\n",
       "    </tr>\n",
       "    <tr>\n",
       "      <th>6</th>\n",
       "      <td>2020</td>\n",
       "      <td>19</td>\n",
       "      <td>0</td>\n",
       "    </tr>\n",
       "    <tr>\n",
       "      <th>7</th>\n",
       "      <td>2021</td>\n",
       "      <td>18</td>\n",
       "      <td>0</td>\n",
       "    </tr>\n",
       "    <tr>\n",
       "      <th>8</th>\n",
       "      <td>2018</td>\n",
       "      <td>21</td>\n",
       "      <td>1</td>\n",
       "    </tr>\n",
       "    <tr>\n",
       "      <th>9</th>\n",
       "      <td>2019</td>\n",
       "      <td>22</td>\n",
       "      <td>1</td>\n",
       "    </tr>\n",
       "    <tr>\n",
       "      <th>10</th>\n",
       "      <td>2020</td>\n",
       "      <td>21</td>\n",
       "      <td>1</td>\n",
       "    </tr>\n",
       "    <tr>\n",
       "      <th>11</th>\n",
       "      <td>2021</td>\n",
       "      <td>20</td>\n",
       "      <td>1</td>\n",
       "    </tr>\n",
       "  </tbody>\n",
       "</table>\n",
       "</div>"
      ],
      "text/plain": [
       "    Year  Time  new\n",
       "0   2018    20    1\n",
       "1   2019    21    1\n",
       "2   2020    19    0\n",
       "3   2021    18    0\n",
       "4   2018    20    1\n",
       "5   2019    23    1\n",
       "6   2020    19    0\n",
       "7   2021    18    0\n",
       "8   2018    21    1\n",
       "9   2019    22    1\n",
       "10  2020    21    1\n",
       "11  2021    20    1"
      ]
     },
     "execution_count": 6,
     "metadata": {},
     "output_type": "execute_result"
    }
   ],
   "source": [
    "#defining the treshold value\n",
    "threshold = 19\n",
    "\n",
    "#creating a new column and appending 1 or 0 based on the treshold values in the 'Time' column\n",
    "df['new'] = df['Time'].gt(threshold).astype(int)\n",
    "\n",
    "#showing df\n",
    "df"
   ]
  },
  {
   "cell_type": "code",
   "execution_count": null,
   "id": "6452d78c",
   "metadata": {},
   "outputs": [],
   "source": []
  },
  {
   "cell_type": "markdown",
   "id": "cda57f40",
   "metadata": {},
   "source": [
    "## Dealing with auto-created CSV files"
   ]
  },
  {
   "cell_type": "markdown",
   "id": "f4a40188",
   "metadata": {},
   "source": [
    "When creating a CSV to store data we use \";\" to separate the data in colmn like:\n",
    "\n",
    "writer = csv.writer(recap, delimiter=\";\")"
   ]
  },
  {
   "cell_type": "code",
   "execution_count": null,
   "id": "7e5996bc",
   "metadata": {},
   "outputs": [],
   "source": []
  },
  {
   "cell_type": "markdown",
   "id": "c0485b08",
   "metadata": {},
   "source": [
    "When opening such data in a Padas dataframe, we have to specify the delimiter like:\n",
    "\n",
    "df = pd.read_csv('recap.csv', sep=';')"
   ]
  },
  {
   "cell_type": "code",
   "execution_count": null,
   "id": "0b3942b4",
   "metadata": {},
   "outputs": [],
   "source": []
  },
  {
   "cell_type": "markdown",
   "id": "20ccaad2",
   "metadata": {},
   "source": [
    "# SEABORN AND MATPLOTLIB"
   ]
  },
  {
   "cell_type": "markdown",
   "id": "39e3fe86",
   "metadata": {},
   "source": [
    "## Histogramn with vertical lines displayed"
   ]
  },
  {
   "cell_type": "code",
   "execution_count": null,
   "id": "f9a14721",
   "metadata": {},
   "outputs": [],
   "source": [
    "import seaborn as sns\n",
    "import matplotlib.pyplot as plt\n",
    "import matplotlib.patches as mpatches\n",
    "\n",
    "# figure size in inches\n",
    "plt.rcParams['figure.figsize'] = 30, 20\n",
    "\n",
    "#font scale\n",
    "sns.set(font_scale=2)\n",
    "\n",
    "#plotting the frequences of df\n",
    "sns.histplot(data=df, x=\"my_variable\", binwidth=30, color='red')\n",
    "\n",
    "#adding vertical lines\n",
    "plt.axvline(x=mean, color=\"blue\") #vertical line to the mean value\n",
    "plt.axvline(x=maxs, color=\"green\") #vertical line to the max value\n",
    "\n",
    "#vertical lines legend\n",
    "blu_line = mpatches.Patch(color=\"blue\", label=f\"the mean value is: {mean:.1f} [s]\")\n",
    "green_line = mpatches.Patch(color=\"green\", label=f\"{fac*100:.0f}% of the mean value: {maxs:.1f} [s]\")\n",
    "plt.legend(handles=[blu_line, green_line], prop={\"size\":25}) #handling the legend.(\"prop={\"size\":20}\" is for fontsize)\n",
    "\n",
    "#title and axis labels\n",
    "plt.title(f\"MY TITLE\", fontsize=25) #plot TITLE\n",
    "plt.xlabel(\"MY X-AXIS LABEL\", fontsize=20) #x-axis label\n",
    "plt.ylabel(\"MY Y-AXIS LABEL\", fontsize=20) #y-axis label\n",
    "\n",
    "#showing grid\n",
    "plt.grid(True, color=\"grey\", linewidth=\"1.4\", linestyle=\"-.\") \n",
    "\n",
    "#saving image\n",
    "os.chdir(data_dir) #if needed...if not, remove it\n",
    "plt.savefig(f\"THE_NAME_OF_MY_FILE.png\")#saving image\n",
    "\n",
    "#open and see the saved image in a new window\n",
    "im = Image.open(os.path.join(data_dir, \"THE_NAME_OF_MY_FILE.png\"))\n",
    "im.show()"
   ]
  },
  {
   "cell_type": "markdown",
   "id": "6ae2f5c7",
   "metadata": {},
   "source": [
    "## Regression line"
   ]
  },
  {
   "cell_type": "code",
   "execution_count": null,
   "id": "e06ff8a0",
   "metadata": {},
   "outputs": [],
   "source": [
    "#plotting the time series analysis with a red regression line\n",
    "sns.regplot(data=phase3, x=\"my_x_variable\", y=\"my_y_variable\"\", line_kws={\"color\": \"red\"})"
   ]
  },
  {
   "cell_type": "code",
   "execution_count": null,
   "id": "1dda81f6",
   "metadata": {},
   "outputs": [],
   "source": []
  },
  {
   "cell_type": "markdown",
   "id": "feffc293",
   "metadata": {},
   "source": [
    "## Plotting histograms from dictionaries"
   ]
  },
  {
   "cell_type": "code",
   "execution_count": 3,
   "id": "e4504721",
   "metadata": {},
   "outputs": [
    {
     "data": {
      "text/plain": [
       "<BarContainer object of 2 artists>"
      ]
     },
     "execution_count": 3,
     "metadata": {},
     "output_type": "execute_result"
    },
    {
     "data": {
      "image/png": "[encoded data removed]",
      "text/plain": [
       "<Figure size 432x288 with 1 Axes>"
      ]
     },
     "metadata": {
      "needs_background": "light"
     },
     "output_type": "display_data"
    }
   ],
   "source": [
    "import matplotlib.pyplot as plt\n",
    "\n",
    "#defining dicrionary\n",
    "my_dict = {'airplanes':780, 'cars':650}\n",
    "\n",
    "#plotting dictionary values\n",
    "plt.bar(my_dict.keys(), my_dict.values(), color='r')"
   ]
  },
  {
   "cell_type": "code",
   "execution_count": null,
   "id": "71ab14be",
   "metadata": {},
   "outputs": [],
   "source": []
  },
  {
   "cell_type": "markdown",
   "id": "392ac9d2",
   "metadata": {},
   "source": [
    "# HOW TO ACCESS GOOGLE SHEETS ON GOOGLE COLABORATORY"
   ]
  },
  {
   "cell_type": "markdown",
   "id": "6d0bf7ce",
   "metadata": {},
   "source": [
    "If you use Google Colaboratory and have some data in Google Sheets, it can be very interesting to access your Google Sheets' file directly in Colaboratory. To do ite, you can read my medium article on this topic:\n",
    "\n",
    "https://medium.com/mlearning-ai/how-to-access-google-sheets-on-google-colaboratory-8766b3a0996f"
   ]
  },
  {
   "cell_type": "code",
   "execution_count": null,
   "id": "e4e2d55d",
   "metadata": {},
   "outputs": [],
   "source": []
  }
 ],
 "metadata": {
  "kernelspec": {
   "display_name": "Python 3 (ipykernel)",
   "language": "python",
   "name": "python3"
  },
  "language_info": {
   "codemirror_mode": {
    "name": "ipython",
    "version": 3
   },
   "file_extension": ".py",
   "mimetype": "text/x-python",
   "name": "python",
   "nbconvert_exporter": "python",
   "pygments_lexer": "ipython3",
   "version": "3.7.10"
  },
  "toc": {
   "base_numbering": 1,
   "nav_menu": {},
   "number_sections": true,
   "sideBar": true,
   "skip_h1_title": false,
   "title_cell": "Table of Contents",
   "title_sidebar": "Contents",
   "toc_cell": true,
   "toc_position": {
    "height": "calc(100% - 180px)",
    "left": "10px",
    "top": "150px",
    "width": "227.983px"
   },
   "toc_section_display": true,
   "toc_window_display": true
  }
 },
 "nbformat": 4,
 "nbformat_minor": 5
}
